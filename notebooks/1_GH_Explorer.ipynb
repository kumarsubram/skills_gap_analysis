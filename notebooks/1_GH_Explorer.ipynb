{
 "cells": [
  {
   "cell_type": "markdown",
   "id": "66d01aac-d52b-40a4-aedd-b3c28406c4b5",
   "metadata": {},
   "source": [
    "Github Analysis!"
   ]
  },
  {
   "cell_type": "markdown",
   "id": "a6b5ee91-1b6b-42e1-abe9-95cead4731ba",
   "metadata": {},
   "source": [
    "Connect to Spark"
   ]
  },
  {
   "cell_type": "code",
   "execution_count": 2,
   "id": "529f203d-78c0-4b6b-a19a-9e462156aa33",
   "metadata": {},
   "outputs": [
    {
     "name": "stdout",
     "output_type": "stream",
     "text": [
      "🚀 Creating Spark session: TestConnection\n",
      "📡 Connecting to: spark://spark-master:7077\n",
      "🗄️  MinIO endpoint: http://minio:9000\n",
      "🔺 Delta Lake: ENABLED\n"
     ]
    },
    {
     "name": "stderr",
     "output_type": "stream",
     "text": [
      "WARNING: Using incubator modules: jdk.incubator.vector\n",
      "Using Spark's default log4j profile: org/apache/spark/log4j2-defaults.properties\n",
      "Setting default log level to \"WARN\".\n",
      "To adjust logging level use sc.setLogLevel(newLevel). For SparkR, use setLogLevel(newLevel).\n",
      "25/06/26 19:23:48 WARN NativeCodeLoader: Unable to load native-hadoop library for your platform... using builtin-java classes where applicable\n",
      "25/06/26 19:23:48 WARN Utils: Service 'SparkUI' could not bind on port 4040. Attempting port 4041.\n"
     ]
    },
    {
     "name": "stdout",
     "output_type": "stream",
     "text": [
      "✅ Spark 4.0.0 session created successfully!\n",
      "🔗 Spark UI: http://localhost:4041\n",
      "💡 S3A ready for s3a://delta-lake/ operations\n",
      "🔺 Delta Lake ready for delta table operations!\n"
     ]
    }
   ],
   "source": [
    "# Use the correct function name from your file\n",
    "from spark_utils import quick_start\n",
    "spark = quick_start(\"TestConnection\")"
   ]
  },
  {
   "cell_type": "markdown",
   "id": "016b73e3-6a40-4cfc-a043-61d3bb5377aa",
   "metadata": {},
   "source": [
    "Load Bronze"
   ]
  },
  {
   "cell_type": "code",
   "execution_count": 4,
   "id": "544fa9eb-4956-4483-bf7b-6adcc7927e49",
   "metadata": {},
   "outputs": [
    {
     "name": "stderr",
     "output_type": "stream",
     "text": [
      "                                                                                "
     ]
    }
   ],
   "source": [
    "df = spark.read.json(\"s3a://delta-lake/bronze/github/2024-12-31-01.json.gz\")"
   ]
  },
  {
   "cell_type": "code",
   "execution_count": 5,
   "id": "078a2809-fd01-47bb-a4a7-361346e52491",
   "metadata": {},
   "outputs": [
    {
     "name": "stderr",
     "output_type": "stream",
     "text": [
      "25/06/26 19:24:41 WARN SparkStringUtils: Truncated the string representation of a plan since it was too large. This behavior can be adjusted by setting 'spark.sql.debug.maxToStringFields'.\n",
      "                                                                                "
     ]
    },
    {
     "data": {
      "text/plain": [
       "187202"
      ]
     },
     "execution_count": 5,
     "metadata": {},
     "output_type": "execute_result"
    }
   ],
   "source": [
    "df.count()"
   ]
  },
  {
   "cell_type": "markdown",
   "id": "b6fe10dc-3b2f-4340-bd0c-4d7329be0b3f",
   "metadata": {},
   "source": [
    "Bronze Sample Rows in gz source file"
   ]
  },
  {
   "cell_type": "code",
   "execution_count": 6,
   "id": "2d99e428-acd2-46e7-b36d-a5429e435660",
   "metadata": {},
   "outputs": [
    {
     "name": "stdout",
     "output_type": "stream",
     "text": [
      "+------------------------------------------------------------------------------------------------------------------------------------------------------+--------------------+-----------+----+----------------------------------------------------------------------------------------------------------------------------------------------------------------------------------------------------------------------------------------------------------------------------------------------------------------------------------------------------------------------------------------------------------------------------------------------------------------------------------------------------------+------+----------------------------------------------------------------------------------------+---------+\n",
      "|actor                                                                                                                                                 |created_at          |id         |org |payload                                                                                                                                                                                                                                                                                                                                                                                                                                                                                                   |public|repo                                                                                    |type     |\n",
      "+------------------------------------------------------------------------------------------------------------------------------------------------------+--------------------+-----------+----+----------------------------------------------------------------------------------------------------------------------------------------------------------------------------------------------------------------------------------------------------------------------------------------------------------------------------------------------------------------------------------------------------------------------------------------------------------------------------------------------------------+------+----------------------------------------------------------------------------------------+---------+\n",
      "|{https://avatars.githubusercontent.com/u/41898282?, github-actions, , 41898282, github-actions[bot], https://api.github.com/users/github-actions[bot]}|2024-12-31T01:00:00Z|45168747915|NULL|{NULL, c131c81395e97272c5cd252033bedb53264b661f, NULL, [{{41898282+github-actions[bot]@users.noreply.github.com, github-actions[bot]}, true, Deploy to GitHub pages, 42eb975829eb299107be8a6b6d4ca3d872155065, https://api.github.com/repos/Kalebe091/Kalebe091/commits/42eb975829eb299107be8a6b6d4ca3d872155065}], NULL, 1, NULL, 42eb975829eb299107be8a6b6d4ca3d872155065, NULL, NULL, NULL, NULL, NULL, NULL, 21918476965, NULL, refs/heads/output, NULL, NULL, 444947063, NULL, 1}                    |true  |{444947063, Kalebe091/Kalebe091, https://api.github.com/repos/Kalebe091/Kalebe091}      |PushEvent|\n",
      "|{https://avatars.githubusercontent.com/u/36541313?, peterablehmann, , 36541313, peterablehmann, https://api.github.com/users/peterablehmann}          |2024-12-31T01:00:00Z|45168747920|NULL|{NULL, 0513f4a38f23f4d9700907a406686988436c22b6, NULL, [{{73812536+upptime-bot@users.noreply.github.com, Upptime Bot}, true, :bento: Update graphs [skip ci], 17d7dde5710847b04a7ab93a65235cceff44f5e5, https://api.github.com/repos/peterablehmann/upptime/commits/17d7dde5710847b04a7ab93a65235cceff44f5e5}], NULL, 1, NULL, 17d7dde5710847b04a7ab93a65235cceff44f5e5, NULL, NULL, NULL, NULL, NULL, NULL, 21918476986, NULL, refs/heads/master, NULL, NULL, 853391765, NULL, 1}                        |true  |{853391765, peterablehmann/upptime, https://api.github.com/repos/peterablehmann/upptime}|PushEvent|\n",
      "|{https://avatars.githubusercontent.com/u/41898282?, github-actions, , 41898282, github-actions[bot], https://api.github.com/users/github-actions[bot]}|2024-12-31T01:00:00Z|45168747925|NULL|{NULL, 9c1dcbc0bd9a828b82ed62849c8ed893725a0eda, NULL, [{{41898282+github-actions[bot]@users.noreply.github.com, github-actions[bot]}, true, Update github-metrics.svg - [Skip GitHub Action], c8976796a7eeab3a55b9eeb59833c5ccdcb4dc01, https://api.github.com/repos/downzed/downzed/commits/c8976796a7eeab3a55b9eeb59833c5ccdcb4dc01}], NULL, 1, NULL, c8976796a7eeab3a55b9eeb59833c5ccdcb4dc01, NULL, NULL, NULL, NULL, NULL, NULL, 21918476961, NULL, refs/heads/main, NULL, NULL, 882590533, NULL, 1}|true  |{882590533, downzed/downzed, https://api.github.com/repos/downzed/downzed}              |PushEvent|\n",
      "+------------------------------------------------------------------------------------------------------------------------------------------------------+--------------------+-----------+----+----------------------------------------------------------------------------------------------------------------------------------------------------------------------------------------------------------------------------------------------------------------------------------------------------------------------------------------------------------------------------------------------------------------------------------------------------------------------------------------------------------+------+----------------------------------------------------------------------------------------+---------+\n",
      "only showing top 3 rows\n"
     ]
    },
    {
     "name": "stderr",
     "output_type": "stream",
     "text": [
      "25/06/26 19:28:41 ERROR TaskSchedulerImpl: Lost executor 0 on 172.18.0.12: Command exited with code 137\n"
     ]
    }
   ],
   "source": [
    "df.show(3, truncate=False)"
   ]
  }
 ],
 "metadata": {
  "kernelspec": {
   "display_name": "Python 3 (ipykernel)",
   "language": "python",
   "name": "python3"
  },
  "language_info": {
   "codemirror_mode": {
    "name": "ipython",
    "version": 3
   },
   "file_extension": ".py",
   "mimetype": "text/x-python",
   "name": "python",
   "nbconvert_exporter": "python",
   "pygments_lexer": "ipython3",
   "version": "3.12.11"
  }
 },
 "nbformat": 4,
 "nbformat_minor": 5
}
