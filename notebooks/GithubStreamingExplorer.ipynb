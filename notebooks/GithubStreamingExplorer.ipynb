{
 "cells": [
  {
   "cell_type": "code",
   "execution_count": null,
   "id": "5c4d2a1a-ed7f-443b-b946-0d353c1ad6b8",
   "metadata": {},
   "outputs": [],
   "source": [
    "from spark_utils import quick_start\n",
    "spark = quick_start(\"JupyterConnection\")"
   ]
  },
  {
   "cell_type": "code",
   "execution_count": null,
   "id": "6421ed71-4e03-4312-a258-079fcedc9a53",
   "metadata": {},
   "outputs": [],
   "source": [
    "df = spark.read.format(\"delta\").load(\"s3a://delta-lake/bronze/bronze_github_streaming_keyword_extractions\")"
   ]
  },
  {
   "cell_type": "code",
   "execution_count": null,
   "id": "a69ca70e-0072-4aa4-922e-87cc96129750",
   "metadata": {},
   "outputs": [],
   "source": [
    "df.orderBy(df.processing_time.desc()).show(10)"
   ]
  },
  {
   "cell_type": "code",
   "execution_count": null,
   "id": "1e7b5bd5-658e-4cd0-98f6-875d64df4032",
   "metadata": {},
   "outputs": [],
   "source": [
    "df.printSchema()\n",
    "\n",
    "# Show first few rows\n",
    "df.show(5)\n",
    "\n",
    "# Get row count\n",
    "print(f\"Total rows: {df.count()}\")\n",
    "\n",
    "# Check columns\n",
    "print(f\"Columns: {df.columns}\")\n",
    "\n",
    "# Check processing_time column details\n",
    "df.select(\"processing_time\").describe().show()\n",
    "\n",
    "# See latest records\n",
    "df.orderBy(df.processing_time.desc()).show(10)\n",
    "\n",
    "# Check time range\n",
    "from pyspark.sql.functions import min, max\n",
    "df.select(min(\"processing_time\").alias(\"earliest\"),\n",
    "        max(\"processing_time\").alias(\"latest\")).show()\n",
    "\n",
    "# Check how many records per minute (recent)\n",
    "from pyspark.sql.functions import date_format, count\n",
    "\n",
    "df.withColumn(\"minute\", date_format(\"processing_time\", \"yyyy-MM-dd HH:mm\")) \\\n",
    ".groupBy(\"minute\") \\\n",
    ".count() \\\n",
    ".orderBy(\"minute\", ascending=False) \\\n",
    ".show(20)\n",
    "\n",
    "# Get last 1 minute of data\n",
    "from pyspark.sql.functions import current_timestamp, col\n",
    "from pyspark.sql.types import TimestampType\n",
    "\n",
    "# Cast processing_time to timestamp if needed\n",
    "df_recent = df.filter(\n",
    "  col(\"processing_time\").cast(TimestampType()) >=\n",
    "  current_timestamp() - expr(\"INTERVAL 1 MINUTE\")\n",
    ")\n",
    "\n",
    "print(f\"Records in last minute: {df_recent.count()}\")\n",
    "df_recent.show()\n",
    "\n",
    "# Top technologies in recent data\n",
    "df.groupBy(\"keyword\") \\\n",
    ".sum(\"mentions\") \\\n",
    ".orderBy(\"sum(mentions)\", ascending=False) \\\n",
    ".show(10)"
   ]
  },
  {
   "cell_type": "code",
   "execution_count": null,
   "id": "ed652b14-8c8e-4eeb-afc1-244bfbcfc2b1",
   "metadata": {},
   "outputs": [],
   "source": [
    "# See what hours actually have data\n",
    "df.groupBy(\"date\", \"hour\").count().orderBy(\"date\", \"hour\").show(50)\n",
    "\n",
    "\n",
    "# See most recent records and their hours\n",
    "from pyspark.sql.functions import desc\n",
    "df.select(\"date\", \"hour\", \"processing_time\", \"keyword\") \\\n",
    ".orderBy(desc(\"processing_time\")) \\\n",
    ".show(20)\n",
    "\n",
    "# Check if there's data in hour 23 (current hour)\n",
    "current_hour = 23\n",
    "print(f\"Records in hour {current_hour}:\")\n",
    "df.filter(f\"hour = {current_hour}\").count()\n",
    "\n",
    "# Check hour 22 as well\n",
    "print(f\"Records in hour 22:\")\n",
    "df.filter(f\"hour = 22\").count()\n",
    "\n",
    "# See the actual time range of your data\n",
    "from pyspark.sql.functions import min, max, current_timestamp\n",
    "\n",
    "df.select(\n",
    "  min(\"processing_time\").alias(\"earliest\"),\n",
    "  max(\"processing_time\").alias(\"latest\"),\n",
    "  current_timestamp().alias(\"now\")\n",
    ").show()\n",
    "\n",
    "# This might show partition info in the explain plan\n",
    "df.explain()\n",
    "\n",
    "# Or check the schema\n",
    "df.printSchema()"
   ]
  },
  {
   "cell_type": "code",
   "execution_count": null,
   "id": "952e47a1-7023-4805-956e-ce796f21ad23",
   "metadata": {},
   "outputs": [],
   "source": [
    "df = spark.read.format(\"delta\").load(\"s3a://delta-lake/bronze/bronze_github_streaming_keyword_extractions\")\n",
    "df.createOrReplaceTempView(\"temp_keyword_streaming\")"
   ]
  },
  {
   "cell_type": "code",
   "execution_count": null,
   "id": "37c4b969-4e02-4d18-a642-a772b8c25b92",
   "metadata": {},
   "outputs": [],
   "source": [
    "spark.sql(\"\"\"\n",
    "DELETE FROM delta.`s3a://delta-lake/bronze/bronze_github_streaming_keyword_extractions`\n",
    "WHERE date < DATE('2024-09-01')\n",
    "\"\"\")"
   ]
  },
  {
   "cell_type": "code",
   "execution_count": null,
   "id": "0ed1c6ae-842e-4354-8f32-5d8ec74e6baf",
   "metadata": {},
   "outputs": [],
   "source": [
    "df = spark.read.format(\"delta\").load(\"s3a://delta-lake/bronze/bronze_github_streaming_keyword_extractions\")\n",
    "df.selectExpr(\"min(date)\").show()"
   ]
  },
  {
   "cell_type": "code",
   "execution_count": null,
   "id": "f124d26a-0f16-48b8-ae9c-01dd32e62186",
   "metadata": {},
   "outputs": [],
   "source": [
    "df.schema"
   ]
  },
  {
   "cell_type": "code",
   "execution_count": null,
   "id": "8e823f9e-c154-4cf0-8961-3014197694d3",
   "metadata": {},
   "outputs": [],
   "source": [
    "df.show(5);"
   ]
  },
  {
   "cell_type": "code",
   "execution_count": null,
   "id": "208b467b-d83d-4610-be28-2c92709b2f38",
   "metadata": {},
   "outputs": [],
   "source": [
    "df.groupBy(\"keyword\").count().orderBy(\"count\", ascending=False).show(10)"
   ]
  }
 ],
 "metadata": {
  "kernelspec": {
   "display_name": "Python 3 (ipykernel)",
   "language": "python",
   "name": "python3"
  },
  "language_info": {
   "codemirror_mode": {
    "name": "ipython",
    "version": 3
   },
   "file_extension": ".py",
   "mimetype": "text/x-python",
   "name": "python",
   "nbconvert_exporter": "python",
   "pygments_lexer": "ipython3",
   "version": "3.12.11"
  }
 },
 "nbformat": 4,
 "nbformat_minor": 5
}
