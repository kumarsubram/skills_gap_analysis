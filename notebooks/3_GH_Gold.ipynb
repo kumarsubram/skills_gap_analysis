{
 "cells": [
  {
   "cell_type": "markdown",
   "id": "66d01aac-d52b-40a4-aedd-b3c28406c4b5",
   "metadata": {},
   "source": [
    "Github Analysis!"
   ]
  },
  {
   "cell_type": "code",
   "execution_count": null,
   "id": "529f203d-78c0-4b6b-a19a-9e462156aa33",
   "metadata": {},
   "outputs": [],
   "source": [
    "from spark_utils import quick_start\n",
    "spark = quick_start(\"TestConnection\")"
   ]
  },
  {
   "cell_type": "code",
   "execution_count": null,
   "id": "943a710c-956a-4ef5-80d4-f12424805f79",
   "metadata": {},
   "outputs": [],
   "source": [
    "# Load your data\n",
    "df = spark.read.format(\"delta\").load(\"s3a://delta-lake/gold/gold_github_technology_daily_activity\")\n"
   ]
  },
  {
   "cell_type": "code",
   "execution_count": null,
   "id": "4b1da9b3-388a-4e79-8eaf-b22faa57b28c",
   "metadata": {},
   "outputs": [],
   "source": [
    "df.printSchema()"
   ]
  },
  {
   "cell_type": "code",
   "execution_count": null,
   "id": "55910447-fa11-4ca6-973a-b17513f31bd1",
   "metadata": {},
   "outputs": [],
   "source": [
    "df.show(5, truncate=False)"
   ]
  },
  {
   "cell_type": "code",
   "execution_count": null,
   "id": "f637bf16-8bd5-45d5-b025-f9b0ab56e8e2",
   "metadata": {},
   "outputs": [],
   "source": [
    "df.groupBy(\"technology\") \\\n",
    "  .sum(\"daily_mentions\") \\\n",
    "  .orderBy(\"sum(daily_mentions)\", ascending=False) \\\n",
    "  .show(10, truncate=False)"
   ]
  },
  {
   "cell_type": "code",
   "execution_count": null,
   "id": "2ffd0a63-e366-4ab2-a7d9-ce24b00f892c",
   "metadata": {},
   "outputs": [],
   "source": [
    "df.filter(df.technology != \"github\") \\\n",
    "  .select(\"technology\", \"data_quality_score\", \"source_record_count\") \\\n",
    "  .orderBy(\"data_quality_score\", ascending=False) \\\n",
    "  .show(20, truncate=False)"
   ]
  },
  {
   "cell_type": "code",
   "execution_count": null,
   "id": "a4343f9c-752a-4a31-88a0-5343254e1dc1",
   "metadata": {},
   "outputs": [],
   "source": [
    "df.filter((df.technology != \"github\") & (df.data_quality_score > 50)) \\\n",
    "  .orderBy(df.daily_mentions.desc()) \\\n",
    "  .select(\"technology\", \"daily_mentions\", \"data_quality_score\", \"primary_repository\") \\\n",
    "  .show(20, truncate=False)"
   ]
  },
  {
   "cell_type": "code",
   "execution_count": null,
   "id": "7884bfbe-1901-4d2c-a88b-22a672b8d921",
   "metadata": {},
   "outputs": [],
   "source": [
    "df.filter((df.daily_mentions > 5000) & (df.data_quality_score > 51)) \\\n",
    "  .orderBy(df.daily_mentions.desc()) \\\n",
    "  .select(\"technology\", \"daily_mentions\", \"data_quality_score\", \"primary_repository\") \\\n",
    "  .show(truncate=False)"
   ]
  },
  {
   "cell_type": "code",
   "execution_count": null,
   "id": "0d36dc24-cfe6-47c2-8dcc-3f499bf1ec81",
   "metadata": {},
   "outputs": [],
   "source": [
    "# Quick Duplicate Check in Jupyter\n",
    "print(\"🔍 CHECKING FOR DUPLICATES IN SILVER AND GOLD\")\n",
    "print(\"=\" * 50)\n",
    "\n",
    "# 1. SILVER TABLE DUPLICATE CHECK\n",
    "print(\"\\n🥈 SILVER TABLE ANALYSIS:\")\n",
    "print(f\"Total Silver records: {dfsilver.count():,}\")\n",
    "\n",
    "# Check for duplicate (date, technology) combinations\n",
    "silver_duplicates = dfsilver.groupBy(\"date\", \"technology\").count().filter(\"count > 1\")\n",
    "duplicate_count = silver_duplicates.count()\n",
    "\n",
    "print(f\"Duplicate (date, technology) combinations: {duplicate_count}\")\n",
    "\n",
    "if duplicate_count > 0:\n",
    "    print(\"\\n❌ SILVER HAS DUPLICATES!\")\n",
    "    print(\"Sample duplicates:\")\n",
    "    silver_duplicates.orderBy(\"count\", ascending=False).show(10)\n",
    "    \n",
    "    # Show total duplicate records\n",
    "    total_duplicates = silver_duplicates.agg({\"count\": \"sum\"}).collect()[0][0] - duplicate_count\n",
    "    print(f\"Total duplicate records: {total_duplicates}\")\n",
    "else:\n",
    "    print(\"✅ No duplicates found in Silver\")\n",
    "\n",
    "# 2. LOAD GOLD TABLE AND CHECK\n",
    "print(\"\\n🥇 GOLD TABLE ANALYSIS:\")\n",
    "try:\n",
    "    dfgold = spark.read.format(\"delta\").load(\"s3a://delta-lake/gold/gold_github_technology_daily_activity\")\n",
    "    print(f\"Total Gold records: {dfgold.count():,}\")\n",
    "    \n",
    "    # Check for duplicate (date, technology) combinations  \n",
    "    gold_duplicates = dfgold.groupBy(\"date\", \"technology\").count().filter(\"count > 1\")\n",
    "    gold_duplicate_count = gold_duplicates.count()\n",
    "    \n",
    "    print(f\"Duplicate (date, technology) combinations: {gold_duplicate_count}\")\n",
    "    \n",
    "    if gold_duplicate_count > 0:\n",
    "        print(\"\\n❌ GOLD HAS DUPLICATES!\")\n",
    "        print(\"Sample duplicates:\")\n",
    "        gold_duplicates.orderBy(\"count\", ascending=False).show(10)\n",
    "        \n",
    "        # Show total duplicate records\n",
    "        total_gold_duplicates = gold_duplicates.agg({\"count\": \"sum\"}).collect()[0][0] - gold_duplicate_count\n",
    "        print(f\"Total duplicate records: {total_gold_duplicates}\")\n",
    "    else:\n",
    "        print(\"✅ No duplicates found in Gold\")\n",
    "        \n",
    "except Exception as e:\n",
    "    print(f\"Could not load Gold table: {e}\")\n",
    "\n",
    "# 3. RECORD COUNT BY DATE (to spot anomalies)\n",
    "print(\"\\n📊 RECORD COUNTS BY DATE:\")\n",
    "print(\"\\nSilver records per date:\")\n",
    "dfsilver.groupBy(\"date\").count().orderBy(\"date\").show(20)\n",
    "\n",
    "if 'dfgold' in locals():\n",
    "    print(\"\\nGold records per date:\")\n",
    "    dfgold.groupBy(\"date\").count().orderBy(\"date\").show(20)\n",
    "\n",
    "# 4. QUICK STATS\n",
    "print(\"\\n📈 QUICK STATS:\")\n",
    "print(\"Silver date range:\", dfsilver.agg({\"date\": \"min\"}).collect()[0][0], \"to\", dfsilver.agg({\"date\": \"max\"}).collect()[0][0])\n",
    "print(\"Silver unique dates:\", dfsilver.select(\"date\").distinct().count())\n",
    "print(\"Silver unique technologies:\", dfsilver.select(\"technology\").distinct().count())\n",
    "\n",
    "if 'dfgold' in locals():\n",
    "    print(\"Gold date range:\", dfgold.agg({\"date\": \"min\"}).collect()[0][0], \"to\", dfgold.agg({\"date\": \"max\"}).collect()[0][0])\n",
    "    print(\"Gold unique dates:\", dfgold.select(\"date\").distinct().count())\n",
    "    print(\"Gold unique technologies:\", dfgold.select(\"technology\").distinct().count())"
   ]
  }
 ],
 "metadata": {
  "kernelspec": {
   "display_name": "Python 3 (ipykernel)",
   "language": "python",
   "name": "python3"
  },
  "language_info": {
   "codemirror_mode": {
    "name": "ipython",
    "version": 3
   },
   "file_extension": ".py",
   "mimetype": "text/x-python",
   "name": "python",
   "nbconvert_exporter": "python",
   "pygments_lexer": "ipython3",
   "version": "3.12.11"
  }
 },
 "nbformat": 4,
 "nbformat_minor": 5
}
