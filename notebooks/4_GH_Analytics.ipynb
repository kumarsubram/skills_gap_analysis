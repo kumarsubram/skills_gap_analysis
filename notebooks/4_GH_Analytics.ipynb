{
 "cells": [
  {
   "cell_type": "markdown",
   "id": "66d01aac-d52b-40a4-aedd-b3c28406c4b5",
   "metadata": {},
   "source": [
    "Github Analysis!"
   ]
  },
  {
   "cell_type": "code",
   "execution_count": 1,
   "id": "529f203d-78c0-4b6b-a19a-9e462156aa33",
   "metadata": {},
   "outputs": [
    {
     "name": "stdout",
     "output_type": "stream",
     "text": [
      "🚀 Creating Spark session: TestConnection\n",
      "📡 Connecting to: spark://spark-master:7077\n",
      "🗄️  MinIO endpoint: http://minio:9000\n",
      "🔺 Delta Lake: ENABLED\n"
     ]
    },
    {
     "name": "stderr",
     "output_type": "stream",
     "text": [
      "WARNING: Using incubator modules: jdk.incubator.vector\n",
      "Using Spark's default log4j profile: org/apache/spark/log4j2-defaults.properties\n",
      "Setting default log level to \"WARN\".\n",
      "To adjust logging level use sc.setLogLevel(newLevel). For SparkR, use setLogLevel(newLevel).\n",
      "25/07/02 01:51:12 WARN NativeCodeLoader: Unable to load native-hadoop library for your platform... using builtin-java classes where applicable\n",
      "25/07/02 01:51:13 WARN Utils: Service 'SparkUI' could not bind on port 4040. Attempting port 4041.\n"
     ]
    },
    {
     "name": "stdout",
     "output_type": "stream",
     "text": [
      "✅ Spark 4.0.0 session created successfully!\n",
      "🔗 Spark UI: http://localhost:4041\n",
      "💡 S3A ready for s3a://delta-lake/ operations\n",
      "🔺 Delta Lake ready for delta table operations!\n"
     ]
    }
   ],
   "source": [
    "from spark_utils import quick_start\n",
    "spark = quick_start(\"TestConnection\")"
   ]
  },
  {
   "cell_type": "code",
   "execution_count": 2,
   "id": "943a710c-956a-4ef5-80d4-f12424805f79",
   "metadata": {},
   "outputs": [
    {
     "name": "stderr",
     "output_type": "stream",
     "text": [
      "25/07/02 01:51:17 WARN MetricsConfig: Cannot locate configuration: tried hadoop-metrics2-s3a-file-system.properties,hadoop-metrics2.properties\n",
      "                                                                                "
     ]
    }
   ],
   "source": [
    "# Load your data\n",
    "dfalltime = spark.read.format(\"delta\").load(\"s3a://delta-lake/analytics/analytics_github_technology_trends_alltime\")\n"
   ]
  },
  {
   "cell_type": "code",
   "execution_count": 3,
   "id": "6192eeaa-95a2-4e86-aa9e-06cd5a93e2df",
   "metadata": {},
   "outputs": [
    {
     "data": {
      "text/plain": [
       "StructType([StructField('analysis_date', StringType(), False), StructField('data_start_date', StringType(), False), StructField('data_end_date', StringType(), False), StructField('total_days_analyzed', IntegerType(), False), StructField('technology', StringType(), False), StructField('technology_category', StringType(), False), StructField('total_mentions_alltime', LongType(), False), StructField('avg_daily_mentions_alltime', DoubleType(), False), StructField('peak_day_mentions_alltime', LongType(), False), StructField('days_with_activity_alltime', IntegerType(), False), StructField('mention_rank_alltime', IntegerType(), False), StructField('category_rank_alltime', IntegerType(), False), StructField('data_completeness_alltime', DoubleType(), False), StructField('processed_at', TimestampType(), False)])"
      ]
     },
     "execution_count": 3,
     "metadata": {},
     "output_type": "execute_result"
    }
   ],
   "source": [
    "dfalltime.schema"
   ]
  },
  {
   "cell_type": "code",
   "execution_count": 7,
   "id": "151cc197-2f58-4e7e-8a2e-fae6ba1a3be0",
   "metadata": {},
   "outputs": [
    {
     "name": "stderr",
     "output_type": "stream",
     "text": [
      "                                                                                "
     ]
    },
    {
     "name": "stdout",
     "output_type": "stream",
     "text": [
      "+--------------------+----------+-------------------+----------------------+--------------------------+-------------------------+--------------------------+\n",
      "|mention_rank_alltime|technology|technology_category|total_mentions_alltime|avg_daily_mentions_alltime|peak_day_mentions_alltime|days_with_activity_alltime|\n",
      "+--------------------+----------+-------------------+----------------------+--------------------------+-------------------------+--------------------------+\n",
      "|1                   |ethereum  |blockchain_platform|6719041               |22699.462837837837        |38638                    |296                       |\n",
      "|2                   |near      |blockchain_platform|6088718               |20569.993243243243        |38521                    |296                       |\n",
      "|3                   |docker    |devops             |5761786               |19465.493243243243        |36059                    |296                       |\n",
      "|4                   |npm       |package_manager    |5188481               |17528.652027027027        |53834                    |296                       |\n",
      "|5                   |python    |language           |4894374               |16535.047297297297        |62619                    |296                       |\n",
      "|6                   |go        |language           |4777418               |16139.925675675675        |37953                    |296                       |\n",
      "|7                   |c         |language           |4094103               |13831.429054054053        |33441                    |296                       |\n",
      "|8                   |react     |web_framework      |3947326               |13335.56081081081         |42330                    |296                       |\n",
      "|9                   |java      |language           |3509687               |11857.050675675675        |23511                    |296                       |\n",
      "|10                  |azure     |cloud_platform     |3250865               |10982.652027027027        |20345                    |296                       |\n",
      "+--------------------+----------+-------------------+----------------------+--------------------------+-------------------------+--------------------------+\n",
      "\n"
     ]
    },
    {
     "name": "stderr",
     "output_type": "stream",
     "text": [
      "25/07/02 02:18:22 WARN StandaloneSchedulerBackend$StandaloneDriverEndpoint: Skipping onDisconnected RemoveExecutor call because the scheduler is stopping\n"
     ]
    }
   ],
   "source": [
    "# Get top 10 globally ranked technologies\n",
    "df_top10_global = dfalltime.orderBy(\"mention_rank_alltime\").limit(10)\n",
    "\n",
    "# Show important fields\n",
    "df_top10_global.select(\n",
    "    \"mention_rank_alltime\",\n",
    "    \"technology\",\n",
    "    \"technology_category\",\n",
    "    \"total_mentions_alltime\",\n",
    "    \"avg_daily_mentions_alltime\",\n",
    "    \"peak_day_mentions_alltime\",\n",
    "    \"days_with_activity_alltime\"\n",
    ").show(truncate=False)\n"
   ]
  },
  {
   "cell_type": "code",
   "execution_count": 10,
   "id": "55d56cc0-935b-441a-bc4a-5c79e92b8fd0",
   "metadata": {},
   "outputs": [
    {
     "name": "stdout",
     "output_type": "stream",
     "text": [
      "=== UNIQUE CATEGORY RANK VALUES ===\n",
      "+---------------------+\n",
      "|category_rank_alltime|\n",
      "+---------------------+\n",
      "|                    1|\n",
      "|                    2|\n",
      "|                    3|\n",
      "|                    4|\n",
      "|                    5|\n",
      "|                    6|\n",
      "|                    7|\n",
      "|                    8|\n",
      "|                    9|\n",
      "|                   10|\n",
      "|                   11|\n",
      "|                   12|\n",
      "|                   13|\n",
      "|                   14|\n",
      "|                   15|\n",
      "|                   16|\n",
      "|                   17|\n",
      "|                   18|\n",
      "|                   19|\n",
      "|                   20|\n",
      "+---------------------+\n",
      "only showing top 20 rows\n",
      "=== CATEGORY RANK VALUE COUNTS ===\n",
      "+---------------------+-----+\n",
      "|category_rank_alltime|count|\n",
      "+---------------------+-----+\n",
      "|                    1|   16|\n",
      "|                    2|   16|\n",
      "|                    3|   16|\n",
      "|                    4|   14|\n",
      "|                    5|   13|\n",
      "|                    6|   13|\n",
      "|                    7|   13|\n",
      "|                    8|   12|\n",
      "|                    9|   11|\n",
      "|                   10|   11|\n",
      "|                   11|   11|\n",
      "|                   12|   11|\n",
      "|                   13|   11|\n",
      "|                   14|   11|\n",
      "|                   15|   11|\n",
      "|                   16|   11|\n",
      "|                   17|   11|\n",
      "|                   18|   11|\n",
      "|                   19|   11|\n",
      "|                   20|   10|\n",
      "+---------------------+-----+\n",
      "only showing top 20 rows\n",
      "=== NON-1 CATEGORY RANKS ===\n",
      "+------------+-------------------+----------------------+--------------------+---------------------+\n",
      "|  technology|technology_category|total_mentions_alltime|mention_rank_alltime|category_rank_alltime|\n",
      "+------------+-------------------+----------------------+--------------------+---------------------+\n",
      "|    datasets|       ai_framework|                254371|                 103|                    2|\n",
      "|       torch|       ai_framework|                250591|                 105|                    3|\n",
      "|    guidance|       ai_framework|                173343|                 130|                    4|\n",
      "|   langchain|       ai_framework|                160261|                 139|                    5|\n",
      "|transformers|       ai_framework|                124532|                 157|                    6|\n",
      "|  tensorflow|       ai_framework|                120831|                 159|                    7|\n",
      "|        vllm|       ai_framework|                 85993|                 187|                    8|\n",
      "|      pillow|       ai_framework|                 64741|                 213|                    9|\n",
      "|  instructor|       ai_framework|                 53444|                 227|                   10|\n",
      "|      opencv|       ai_framework|                 53275|                 228|                   11|\n",
      "|     litellm|       ai_framework|                 52682|                 229|                   12|\n",
      "|     autogen|       ai_framework|                 40937|                 251|                   13|\n",
      "|  accelerate|       ai_framework|                 40917|                 252|                   14|\n",
      "|      chroma|       ai_framework|                 37643|                 262|                   15|\n",
      "|       keras|       ai_framework|                 35072|                 268|                   16|\n",
      "|   langgraph|       ai_framework|                 34797|                 270|                   17|\n",
      "|    outlines|       ai_framework|                 32426|                 276|                   18|\n",
      "|scikit-learn|       ai_framework|                 32331|                 277|                   19|\n",
      "|      milvus|       ai_framework|                 30067|                 285|                   20|\n",
      "|      qdrant|       ai_framework|                 26630|                 293|                   21|\n",
      "+------------+-------------------+----------------------+--------------------+---------------------+\n",
      "only showing top 20 rows\n",
      "=== CATEGORY DISTRIBUTION ===\n",
      "+-------------------+-----+\n",
      "|technology_category|count|\n",
      "+-------------------+-----+\n",
      "|          framework|   77|\n",
      "|               tool|   62|\n",
      "|       ai_framework|   51|\n",
      "|           ai_model|   43|\n",
      "|           language|   37|\n",
      "|       ai_technique|   36|\n",
      "|         blockchain|   31|\n",
      "|           database|   28|\n",
      "|             devops|   27|\n",
      "|              cloud|   23|\n",
      "|           big_data|   19|\n",
      "|            ai_tool|    8|\n",
      "|            library|    7|\n",
      "|           platform|    4|\n",
      "|         ai_service|    3|\n",
      "|        ai_platform|    3|\n",
      "+-------------------+-----+\n",
      "\n",
      "=== SAMPLE BY CATEGORY (TOP CATEGORIES) ===\n",
      "\n",
      "--- AI_FRAMEWORK ---\n",
      "+------------+----------------------+--------------------+---------------------+\n",
      "|  technology|total_mentions_alltime|mention_rank_alltime|category_rank_alltime|\n",
      "+------------+----------------------+--------------------+---------------------+\n",
      "|     pytorch|                310404|                  94|                    1|\n",
      "|    datasets|                254371|                 103|                    2|\n",
      "|       torch|                250591|                 105|                    3|\n",
      "|    guidance|                173343|                 130|                    4|\n",
      "|   langchain|                160261|                 139|                    5|\n",
      "|transformers|                124532|                 157|                    6|\n",
      "|  tensorflow|                120831|                 159|                    7|\n",
      "|        vllm|                 85993|                 187|                    8|\n",
      "|      pillow|                 64741|                 213|                    9|\n",
      "|  instructor|                 53444|                 227|                   10|\n",
      "+------------+----------------------+--------------------+---------------------+\n",
      "only showing top 10 rows\n",
      "\n",
      "--- LANGUAGE ---\n",
      "+----------+----------------------+--------------------+---------------------+\n",
      "|technology|total_mentions_alltime|mention_rank_alltime|category_rank_alltime|\n",
      "+----------+----------------------+--------------------+---------------------+\n",
      "|    python|               4894374|                   6|                    1|\n",
      "|        go|               4777418|                   7|                    2|\n",
      "|         c|               4094103|                   8|                    3|\n",
      "|      java|               3509687|                  11|                    4|\n",
      "|typescript|               2890336|                  14|                    5|\n",
      "|       php|               2020093|                  15|                    6|\n",
      "|         r|               1958218|                  16|                    7|\n",
      "|       cpp|               1668536|                  17|                    8|\n",
      "|      rust|               1329901|                  22|                    9|\n",
      "|    golang|               1186625|                  25|                   10|\n",
      "+----------+----------------------+--------------------+---------------------+\n",
      "only showing top 10 rows\n",
      "\n",
      "--- FRAMEWORK ---\n",
      "+-----------+----------------------+--------------------+---------------------+\n",
      "| technology|total_mentions_alltime|mention_rank_alltime|category_rank_alltime|\n",
      "+-----------+----------------------+--------------------+---------------------+\n",
      "|      react|               3947326|                   9|                    1|\n",
      "|    express|                881406|                  33|                    2|\n",
      "|  bootstrap|                828508|                  35|                    3|\n",
      "|        vue|                780470|                  37|                    4|\n",
      "|     spring|                780287|                  38|                    5|\n",
      "|    angular|                699753|                  44|                    6|\n",
      "|   tailwind|                639086|                  47|                    7|\n",
      "|    next.js|                583287|                  51|                    8|\n",
      "|tailwindcss|                555268|                  54|                    9|\n",
      "|     django|                499643|                  60|                   10|\n",
      "+-----------+----------------------+--------------------+---------------------+\n",
      "only showing top 10 rows\n",
      "\n",
      "--- DATABASE ---\n",
      "+-------------+----------------------+--------------------+---------------------+\n",
      "|   technology|total_mentions_alltime|mention_rank_alltime|category_rank_alltime|\n",
      "+-------------+----------------------+--------------------+---------------------+\n",
      "|        redis|                562599|                  52|                    1|\n",
      "|      mongodb|                427358|                  67|                    2|\n",
      "|     postgres|                412607|                  70|                    3|\n",
      "|        mysql|                407127|                  76|                    4|\n",
      "|   postgresql|                387706|                  80|                    5|\n",
      "|     supabase|                324164|                  89|                    6|\n",
      "|       sqlite|                301316|                  96|                    7|\n",
      "|       oracle|                220572|                 115|                    8|\n",
      "|elasticsearch|                168560|                 131|                    9|\n",
      "|     dynamodb|                 94519|                 174|                   10|\n",
      "+-------------+----------------------+--------------------+---------------------+\n",
      "only showing top 10 rows\n",
      "\n",
      "--- BLOCKCHAIN ---\n",
      "+----------+----------------------+--------------------+---------------------+\n",
      "|technology|total_mentions_alltime|mention_rank_alltime|category_rank_alltime|\n",
      "+----------+----------------------+--------------------+---------------------+\n",
      "|  ethereum|               6719041|                   2|                    1|\n",
      "|      near|               6088718|                   3|                    2|\n",
      "|    anchor|                166167|                 134|                    3|\n",
      "|   bitcoin|                160808|                 138|                    4|\n",
      "|    solana|                141205|                 148|                    5|\n",
      "|    cosmos|                110372|                 165|                    6|\n",
      "|   polygon|                 77809|                 196|                    7|\n",
      "|  optimism|                 68290|                 204|                    8|\n",
      "|   foundry|                 66891|                 208|                    9|\n",
      "| lightning|                 62339|                 214|                   10|\n",
      "+----------+----------------------+--------------------+---------------------+\n",
      "only showing top 10 rows\n",
      "=== CATEGORIES WITH ONLY 1 TECHNOLOGY ===\n",
      "+-------------------+-----+\n",
      "|technology_category|count|\n",
      "+-------------------+-----+\n",
      "+-------------------+-----+\n",
      "\n"
     ]
    }
   ],
   "source": [
    "# Commands to check category rankings in your Spark/Jupyter environment\n",
    "\n",
    "# 1. Load the alltime analytics table\n",
    "dfalltime = spark.read.format(\"delta\").load(\"s3a://delta-lake/analytics/analytics_github_technology_trends_alltime\")\n",
    "\n",
    "# 2. Check unique category_rank_alltime values\n",
    "print(\"=== UNIQUE CATEGORY RANK VALUES ===\")\n",
    "dfalltime.select(\"category_rank_alltime\").distinct().orderBy(\"category_rank_alltime\").show()\n",
    "\n",
    "# 3. Count of each category rank value\n",
    "print(\"=== CATEGORY RANK VALUE COUNTS ===\")\n",
    "dfalltime.groupBy(\"category_rank_alltime\").count().orderBy(\"category_rank_alltime\").show()\n",
    "\n",
    "# 4. Check if there are any values other than 1\n",
    "print(\"=== NON-1 CATEGORY RANKS ===\")\n",
    "dfalltime.filter(dfalltime.category_rank_alltime != 1).select(\n",
    "    \"technology\", \n",
    "    \"technology_category\", \n",
    "    \"total_mentions_alltime\", \n",
    "    \"mention_rank_alltime\", \n",
    "    \"category_rank_alltime\"\n",
    ").orderBy(\"technology_category\", \"category_rank_alltime\").show(20)\n",
    "\n",
    "# 5. Show category distribution to understand the ranking\n",
    "print(\"=== CATEGORY DISTRIBUTION ===\")\n",
    "dfalltime.groupBy(\"technology_category\").count().orderBy(\"count\", ascending=False).show()\n",
    "\n",
    "# 6. Sample of technologies by category with their ranks\n",
    "print(\"=== SAMPLE BY CATEGORY (TOP CATEGORIES) ===\")\n",
    "for category in [\"ai_framework\", \"language\", \"framework\", \"database\", \"blockchain\"]:\n",
    "    print(f\"\\n--- {category.upper()} ---\")\n",
    "    dfalltime.filter(dfalltime.technology_category == category).select(\n",
    "        \"technology\", \n",
    "        \"total_mentions_alltime\", \n",
    "        \"mention_rank_alltime\", \n",
    "        \"category_rank_alltime\"\n",
    "    ).orderBy(\"category_rank_alltime\").show(10)\n",
    "\n",
    "# 7. Check for any category with only 1 technology (these should have category_rank = 1)\n",
    "print(\"=== CATEGORIES WITH ONLY 1 TECHNOLOGY ===\")\n",
    "category_counts = dfalltime.groupBy(\"technology_category\").count()\n",
    "single_tech_categories = category_counts.filter(category_counts['count'] == 1)  # Use bracket notation\n",
    "single_tech_categories.show()\n",
    "\n",
    "# If there are single-tech categories, show them:\n",
    "if single_tech_categories.count() > 0:\n",
    "    print(\"Technologies in single-tech categories:\")\n",
    "    single_cats = [row.technology_category for row in single_tech_categories.collect()]\n",
    "    dfalltime.filter(dfalltime.technology_category.isin(single_cats)).select(\n",
    "        \"technology\", \n",
    "        \"technology_category\", \n",
    "        \"category_rank_alltime\"\n",
    "    ).show()"
   ]
  },
  {
   "cell_type": "code",
   "execution_count": null,
   "id": "4b1da9b3-388a-4e79-8eaf-b22faa57b28c",
   "metadata": {},
   "outputs": [],
   "source": [
    "dfalltime.printSchema()"
   ]
  },
  {
   "cell_type": "code",
   "execution_count": null,
   "id": "c90d378d-0b9d-4849-8c59-db388093649a",
   "metadata": {},
   "outputs": [],
   "source": [
    "dfalltime.show(5, truncate=False)"
   ]
  },
  {
   "cell_type": "code",
   "execution_count": null,
   "id": "68e2372b-7255-4e08-918a-fe12b68b8765",
   "metadata": {},
   "outputs": [],
   "source": [
    "df = spark.read.format(\"delta\").load(\"s3a://delta-lake/analytics/analytics_github_technology_trends_7d\")\n",
    "df.printSchema()"
   ]
  },
  {
   "cell_type": "code",
   "execution_count": null,
   "id": "2525917a-bc2b-493c-aa8f-08b3f0dca765",
   "metadata": {},
   "outputs": [],
   "source": [
    "df = spark.read.format(\"delta\").load(\"s3a://delta-lake/analytics/analytics_github_technology_trends_30d\")"
   ]
  },
  {
   "cell_type": "code",
   "execution_count": null,
   "id": "2cdeb969-9033-420e-9bed-78cbf24661d9",
   "metadata": {},
   "outputs": [],
   "source": [
    "df.printSchema()"
   ]
  }
 ],
 "metadata": {
  "kernelspec": {
   "display_name": "Python 3 (ipykernel)",
   "language": "python",
   "name": "python3"
  },
  "language_info": {
   "codemirror_mode": {
    "name": "ipython",
    "version": 3
   },
   "file_extension": ".py",
   "mimetype": "text/x-python",
   "name": "python",
   "nbconvert_exporter": "python",
   "pygments_lexer": "ipython3",
   "version": "3.12.11"
  }
 },
 "nbformat": 4,
 "nbformat_minor": 5
}
