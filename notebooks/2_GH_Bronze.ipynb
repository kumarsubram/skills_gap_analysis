{
 "cells": [
  {
   "cell_type": "code",
   "execution_count": null,
   "id": "e2c5be07-216a-4a54-9ac8-ea6221790da7",
   "metadata": {},
   "outputs": [],
   "source": [
    "from spark_utils import quick_start\n",
    "spark = quick_start(\"TestConnection\")"
   ]
  },
  {
   "cell_type": "code",
   "execution_count": null,
   "id": "e0636b7c-0cf4-4d64-9d11-04feee8d4b90",
   "metadata": {},
   "outputs": [],
   "source": [
    "dfbronze = spark.read.format(\"delta\").load(\"s3a://delta-lake/bronze/bronze_github_keyword_extractions\")"
   ]
  },
  {
   "cell_type": "code",
   "execution_count": null,
   "id": "90dc2e23-f1f1-4bd6-a3b8-a4847a819eac",
   "metadata": {},
   "outputs": [],
   "source": [
    "dfbronze.count()"
   ]
  },
  {
   "cell_type": "code",
   "execution_count": null,
   "id": "bcb76c47-84ac-488b-9c62-4eb390cc32a2",
   "metadata": {},
   "outputs": [],
   "source": [
    "dfbronze.show(5, truncate=False)"
   ]
  },
  {
   "cell_type": "code",
   "execution_count": null,
   "id": "dfdc45d4-e760-49ba-9a21-2bd8db28c723",
   "metadata": {},
   "outputs": [],
   "source": [
    "dfsilver = spark.read.format(\"delta\").load(\"s3a://delta-lake/silver/silver_github_keyword_trends\")"
   ]
  },
  {
   "cell_type": "code",
   "execution_count": null,
   "id": "da017244-6740-4c98-80c6-26be21bc6f5f",
   "metadata": {},
   "outputs": [],
   "source": [
    "dfsilver.count()"
   ]
  },
  {
   "cell_type": "code",
   "execution_count": null,
   "id": "36a97a28-3ae0-47b9-9697-7973483af2ea",
   "metadata": {},
   "outputs": [],
   "source": [
    "dfsilver.show(5, truncate=False)"
   ]
  }
 ],
 "metadata": {
  "kernelspec": {
   "display_name": "Python 3 (ipykernel)",
   "language": "python",
   "name": "python3"
  },
  "language_info": {
   "codemirror_mode": {
    "name": "ipython",
    "version": 3
   },
   "file_extension": ".py",
   "mimetype": "text/x-python",
   "name": "python",
   "nbconvert_exporter": "python",
   "pygments_lexer": "ipython3",
   "version": "3.12.11"
  }
 },
 "nbformat": 4,
 "nbformat_minor": 5
}
